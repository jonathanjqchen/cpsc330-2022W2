{
 "cells": [
  {
   "cell_type": "markdown",
   "metadata": {},
   "source": [
    "# CPSC 330 - Applied Machine Learning \n",
    "\n",
    "## Homework 6: Putting it all together \n",
    "### Associated lectures: All material till lecture 13 \n",
    "\n",
    "**Due date: Wednesday, March 15, 2023 at 11:59pm**"
   ]
  },
  {
   "cell_type": "markdown",
   "metadata": {},
   "source": [
    "## Table of contents\n",
    "\n",
    "- [Submission instructions](#si)\n",
    "- [Understanding the problem](#1)\n",
    "- [Data splitting](#2)\n",
    "- [EDA](#3)\n",
    "- (Optional) [Feature engineering](#4)\n",
    "- [Preprocessing and transformations](#5)\n",
    "- [Baseline model](#6)\n",
    "- [Linear models](#7)\n",
    "- [Different classifiers](#8)\n",
    "- (Optional) [Feature selection](#9)\n",
    "- [Hyperparameter optimization](#10)\n",
    "- [Interpretation and feature importances](#11)\n",
    "- [Results on the test set](#12)\n",
    "- (Optional) [Explaining predictions](#13)\n",
    "- [Summary of the results](#14)"
   ]
  },
  {
   "cell_type": "markdown",
   "metadata": {},
   "source": [
    "## Imports "
   ]
  },
  {
   "cell_type": "code",
   "execution_count": 1,
   "metadata": {},
   "outputs": [],
   "source": [
    "import os\n",
    "\n",
    "%matplotlib inline\n",
    "import sys\n",
    "\n",
    "import matplotlib.pyplot as plt\n",
    "import numpy as np\n",
    "import pandas as pd\n",
    "import seaborn as sns\n",
    "import xgboost as xgb\n",
    "from sklearn.compose import ColumnTransformer, make_column_transformer\n",
    "from sklearn.dummy import DummyClassifier\n",
    "from sklearn.ensemble import RandomForestClassifier\n",
    "from sklearn.impute import SimpleImputer\n",
    "from sklearn.linear_model import LogisticRegression\n",
    "from sklearn.metrics import (\n",
    "    classification_report,\n",
    "    confusion_matrix,\n",
    "    f1_score,\n",
    "    make_scorer,\n",
    "    ConfusionMatrixDisplay,\n",
    ")\n",
    "from sklearn.model_selection import (\n",
    "    GridSearchCV,\n",
    "    RandomizedSearchCV,\n",
    "    cross_val_score,\n",
    "    cross_validate,\n",
    "    train_test_split,\n",
    ")\n",
    "from sklearn.pipeline import Pipeline, make_pipeline\n",
    "from sklearn.preprocessing import OneHotEncoder, OrdinalEncoder, StandardScaler\n",
    "from sklearn.svm import SVC"
   ]
  },
  {
   "cell_type": "markdown",
   "metadata": {},
   "source": [
    "<br><br>"
   ]
  },
  {
   "cell_type": "markdown",
   "metadata": {},
   "source": [
    "## Instructions \n",
    "<hr>\n",
    "rubric={points:2}\n",
    "\n",
    "Follow the [homework submission instructions](https://github.com/UBC-CS/cpsc330-2022W2/blob/main/docs/homework_instructions.md). \n",
    "\n",
    "**You may work on this homework in a group and submit your assignment as a group.** Below are some instructions on working as a group.  \n",
    "- The maximum group size is 3. \n",
    "- Use group work as an opportunity to collaborate and learn new things from each other. \n",
    "- Be respectful to each other and make sure you understand all the concepts in the assignment well. \n",
    "- It's your responsibility to make sure that the assignment is submitted by one of the group members before the deadline. \n",
    "- You can find the instructions on how to do group submission on Gradescope [here](https://help.gradescope.com/article/m5qz2xsnjy-student-add-group-members)."
   ]
  },
  {
   "cell_type": "markdown",
   "metadata": {},
   "source": [
    "<br><br>"
   ]
  },
  {
   "cell_type": "markdown",
   "metadata": {},
   "source": [
    "## Introduction <a name=\"in\"></a>\n",
    "<hr>\n",
    "\n",
    "At this point we are at the end of supervised machine learning part of the course. So in this homework, you will be working on an open-ended mini-project, where you will put all the different things you have learned so far together to solve an interesting problem.\n",
    "\n",
    "A few notes and tips when you work on this mini-project: \n",
    "\n",
    "#### Tips\n",
    "\n",
    "1. This mini-project is open-ended, and while working on it, there might be some situations where you'll have to use your own judgment and make your own decisions (as you would be doing when you work as a data scientist). **Make sure you explain your decisions whenever necessary.** \n",
    "2. **Do not include everything you ever tried in your submission** -- it's fine just to have your final code. That said, your code should be reproducible and well-documented. For example, if you chose your hyperparameters based on some hyperparameter optimization experiment, you should leave in the code for that experiment so that someone else could re-run it and obtain the same hyperparameters, rather than mysteriously just setting the hyperparameters to some (carefully chosen) values in your code. \n",
    "3. If you realize that you are repeating a lot of code try to organize it in functions. Clear presentation of your code, experiments, and results is the key to be successful in this lab. You may use code from lecture notes or previous lab solutions with appropriate attributions. \n",
    "4. If you are having trouble running models on your laptop because of the size of the dataset, you can create your train/test split in such a way that you have less data in the train split. If you end up doing this, please write a note to the grader in the submission explaining why you are doing it.  \n",
    "\n",
    "#### Assessment\n",
    "\n",
    "We plan to grade fairly and leniently. We don't have some secret target score that you need to achieve to get a good grade. **You'll be assessed on demonstration of mastery of course topics, clear presentation, and the quality of your analysis and results.** For example, if you just have a bunch of code and no text or figures, that's not good. If you do a bunch of sane things and get a lower accuracy than your friend, don't sweat it.\n",
    "\n",
    "#### A final note\n",
    "\n",
    "Finally, this style of this \"project\" question is different from other assignments. It'll be up to you to decide when you're \"done\" -- in fact, this is one of the hardest parts of real projects. But please don't spend WAY too much time on this... perhaps \"a few hours\" (2-8 hours???) is a good guideline for a typical submission. Of course if you're having fun you're welcome to spend as much time as you want! But, if so, try not to do it out of perfectionism or getting the best possible grade. Do it because you're learning and enjoying it. Students from the past cohorts have found such kind of labs useful and fun and I hope you enjoy it as well. "
   ]
  },
  {
   "cell_type": "markdown",
   "metadata": {},
   "source": [
    "<br><br>"
   ]
  },
  {
   "cell_type": "markdown",
   "metadata": {},
   "source": [
    "## 1. Understanding the problem <a name=\"1\"></a>\n",
    "<hr>\n",
    "rubric={points:4}\n",
    "\n",
    "In this mini project, you will be working on a classification problem of predicting whether a customer will cancel the reservation they have made at a hotel. \n",
    "For this problem, you will use [Reservation Cancellation Prediction Dataset](https://www.kaggle.com/datasets/gauravduttakiit/reservation-cancellation-prediction?select=train__dataset.csv). In this data set, there are about 18.000 examples and 18 features (including the target), and the goal is to estimate whether a person will cancel their booking; this column is labeled \"booking_status\" in the data (1 = canceled). \n",
    "\n",
    "**Your tasks:**\n",
    "\n",
    "1. Spend some time understanding the problem and what each feature means. You can find this information in the documentation on [the dataset page on Kaggle](https://www.kaggle.com/datasets/gauravduttakiit/reservation-cancellation-prediction?select=train__dataset.csv). Write a few sentences on your initial thoughts on the problem and the dataset. \n",
    "2. Download the dataset and read it as a pandas dataframe. "
   ]
  },
  {
   "cell_type": "markdown",
   "metadata": {},
   "source": [
    "1. Our goal is to predict whether a person will cancel or keep their booking, hence this is a binary classification problem. More specifically, this is a spotting problem where we're interested in spotting if a booking has been canceled (i.e., the positive class). Each row in the dataset corresponds to a specific reservation that was made. Most of the features in the dataset are quantitative. The features that are not quantitative (i.e., categorical or binary) have already been encoded numerically (e.g., `typeofmeal_plan`, `requiredcarparking_space`, `roomtypereserved`, `market_segment_type`, `repeated_guest`).\n",
    "\n",
    "2. See below:"
   ]
  },
  {
   "cell_type": "code",
   "execution_count": 2,
   "metadata": {},
   "outputs": [],
   "source": [
    "train_df = pd.read_csv(\"train__dataset.csv\")"
   ]
  },
  {
   "cell_type": "markdown",
   "metadata": {},
   "source": [
    "## 2. Data splitting <a name=\"2\"></a>\n",
    "<hr>\n",
    "rubric={points:2}\n",
    "\n",
    "**Your tasks:**\n",
    "\n",
    "1. Split the data into train and test portions. "
   ]
  },
  {
   "cell_type": "code",
   "execution_count": 3,
   "metadata": {},
   "outputs": [],
   "source": [
    "df = pd.read_csv(\"train__dataset.csv\")\n",
    "train_df, test_df = train_test_split(df, test_size=0.3, random_state=123)\n",
    "X_train = train_df.drop(columns=[\"booking_status\"])\n",
    "X_test = test_df.drop(columns=[\"booking_status\"])\n",
    "\n",
    "y_train = train_df[\"booking_status\"]\n",
    "y_test = train_df[\"booking_status\"]"
   ]
  },
  {
   "cell_type": "markdown",
   "metadata": {},
   "source": [
    "## 3. EDA <a name=\"3\"></a>\n",
    "<hr>\n",
    "rubric={points:10}\n",
    "\n",
    "**Your tasks:**\n",
    "\n",
    "1. Perform exploratory data analysis on the train set.\n",
    "2. Include at least two summary statistics and two visualizations that you find useful, and accompany each one with a sentence explaining it.\n",
    "3. Summarize your initial observations about the data. \n",
    "4. Pick appropriate metric/metrics for assessment. "
   ]
  },
  {
   "cell_type": "code",
   "execution_count": 4,
   "metadata": {},
   "outputs": [
    {
     "name": "stdout",
     "output_type": "stream",
     "text": [
      "<class 'pandas.core.frame.DataFrame'>\n",
      "Int64Index: 12695 entries, 15946 to 15725\n",
      "Data columns (total 18 columns):\n",
      " #   Column                                Non-Null Count  Dtype  \n",
      "---  ------                                --------------  -----  \n",
      " 0   no_of_adults                          12695 non-null  int64  \n",
      " 1   no_of_children                        12695 non-null  int64  \n",
      " 2   no_of_weekend_nights                  12695 non-null  int64  \n",
      " 3   no_of_week_nights                     12695 non-null  int64  \n",
      " 4   type_of_meal_plan                     12695 non-null  int64  \n",
      " 5   required_car_parking_space            12695 non-null  int64  \n",
      " 6   room_type_reserved                    12695 non-null  int64  \n",
      " 7   lead_time                             12695 non-null  int64  \n",
      " 8   arrival_year                          12695 non-null  int64  \n",
      " 9   arrival_month                         12695 non-null  int64  \n",
      " 10  arrival_date                          12695 non-null  int64  \n",
      " 11  market_segment_type                   12695 non-null  int64  \n",
      " 12  repeated_guest                        12695 non-null  int64  \n",
      " 13  no_of_previous_cancellations          12695 non-null  int64  \n",
      " 14  no_of_previous_bookings_not_canceled  12695 non-null  int64  \n",
      " 15  avg_price_per_room                    12695 non-null  float64\n",
      " 16  no_of_special_requests                12695 non-null  int64  \n",
      " 17  booking_status                        12695 non-null  int64  \n",
      "dtypes: float64(1), int64(17)\n",
      "memory usage: 1.8 MB\n"
     ]
    },
    {
     "data": {
      "text/html": [
       "<div>\n",
       "<style scoped>\n",
       "    .dataframe tbody tr th:only-of-type {\n",
       "        vertical-align: middle;\n",
       "    }\n",
       "\n",
       "    .dataframe tbody tr th {\n",
       "        vertical-align: top;\n",
       "    }\n",
       "\n",
       "    .dataframe thead th {\n",
       "        text-align: right;\n",
       "    }\n",
       "</style>\n",
       "<table border=\"1\" class=\"dataframe\">\n",
       "  <thead>\n",
       "    <tr style=\"text-align: right;\">\n",
       "      <th></th>\n",
       "      <th>no_of_adults</th>\n",
       "      <th>no_of_children</th>\n",
       "      <th>no_of_weekend_nights</th>\n",
       "      <th>no_of_week_nights</th>\n",
       "      <th>type_of_meal_plan</th>\n",
       "      <th>required_car_parking_space</th>\n",
       "      <th>room_type_reserved</th>\n",
       "      <th>lead_time</th>\n",
       "      <th>arrival_year</th>\n",
       "      <th>arrival_month</th>\n",
       "      <th>arrival_date</th>\n",
       "      <th>market_segment_type</th>\n",
       "      <th>repeated_guest</th>\n",
       "      <th>no_of_previous_cancellations</th>\n",
       "      <th>no_of_previous_bookings_not_canceled</th>\n",
       "      <th>avg_price_per_room</th>\n",
       "      <th>no_of_special_requests</th>\n",
       "      <th>booking_status</th>\n",
       "    </tr>\n",
       "  </thead>\n",
       "  <tbody>\n",
       "    <tr>\n",
       "      <th>count</th>\n",
       "      <td>12695.000000</td>\n",
       "      <td>12695.000000</td>\n",
       "      <td>12695.000000</td>\n",
       "      <td>12695.000000</td>\n",
       "      <td>12695.000000</td>\n",
       "      <td>12695.000000</td>\n",
       "      <td>12695.000000</td>\n",
       "      <td>12695.000000</td>\n",
       "      <td>12695.000000</td>\n",
       "      <td>12695.000000</td>\n",
       "      <td>12695.000000</td>\n",
       "      <td>12695.0000</td>\n",
       "      <td>12695.000000</td>\n",
       "      <td>12695.000000</td>\n",
       "      <td>12695.000000</td>\n",
       "      <td>12695.000000</td>\n",
       "      <td>12695.000000</td>\n",
       "      <td>12695.000000</td>\n",
       "    </tr>\n",
       "    <tr>\n",
       "      <th>mean</th>\n",
       "      <td>1.851359</td>\n",
       "      <td>0.106892</td>\n",
       "      <td>0.809137</td>\n",
       "      <td>2.202915</td>\n",
       "      <td>0.317290</td>\n",
       "      <td>0.032690</td>\n",
       "      <td>0.338007</td>\n",
       "      <td>85.579913</td>\n",
       "      <td>2017.820402</td>\n",
       "      <td>7.431587</td>\n",
       "      <td>15.743127</td>\n",
       "      <td>0.8000</td>\n",
       "      <td>0.025207</td>\n",
       "      <td>0.022371</td>\n",
       "      <td>0.158724</td>\n",
       "      <td>103.519186</td>\n",
       "      <td>0.625286</td>\n",
       "      <td>0.326113</td>\n",
       "    </tr>\n",
       "    <tr>\n",
       "      <th>std</th>\n",
       "      <td>0.515134</td>\n",
       "      <td>0.398709</td>\n",
       "      <td>0.870111</td>\n",
       "      <td>1.419864</td>\n",
       "      <td>0.630232</td>\n",
       "      <td>0.177831</td>\n",
       "      <td>0.775014</td>\n",
       "      <td>87.294409</td>\n",
       "      <td>0.383868</td>\n",
       "      <td>3.084243</td>\n",
       "      <td>8.765916</td>\n",
       "      <td>0.6444</td>\n",
       "      <td>0.156759</td>\n",
       "      <td>0.355431</td>\n",
       "      <td>1.788642</td>\n",
       "      <td>35.370949</td>\n",
       "      <td>0.790905</td>\n",
       "      <td>0.468808</td>\n",
       "    </tr>\n",
       "    <tr>\n",
       "      <th>min</th>\n",
       "      <td>0.000000</td>\n",
       "      <td>0.000000</td>\n",
       "      <td>0.000000</td>\n",
       "      <td>0.000000</td>\n",
       "      <td>0.000000</td>\n",
       "      <td>0.000000</td>\n",
       "      <td>0.000000</td>\n",
       "      <td>0.000000</td>\n",
       "      <td>2017.000000</td>\n",
       "      <td>1.000000</td>\n",
       "      <td>1.000000</td>\n",
       "      <td>0.0000</td>\n",
       "      <td>0.000000</td>\n",
       "      <td>0.000000</td>\n",
       "      <td>0.000000</td>\n",
       "      <td>0.000000</td>\n",
       "      <td>0.000000</td>\n",
       "      <td>0.000000</td>\n",
       "    </tr>\n",
       "    <tr>\n",
       "      <th>25%</th>\n",
       "      <td>2.000000</td>\n",
       "      <td>0.000000</td>\n",
       "      <td>0.000000</td>\n",
       "      <td>1.000000</td>\n",
       "      <td>0.000000</td>\n",
       "      <td>0.000000</td>\n",
       "      <td>0.000000</td>\n",
       "      <td>16.000000</td>\n",
       "      <td>2018.000000</td>\n",
       "      <td>5.000000</td>\n",
       "      <td>8.000000</td>\n",
       "      <td>0.0000</td>\n",
       "      <td>0.000000</td>\n",
       "      <td>0.000000</td>\n",
       "      <td>0.000000</td>\n",
       "      <td>80.100000</td>\n",
       "      <td>0.000000</td>\n",
       "      <td>0.000000</td>\n",
       "    </tr>\n",
       "    <tr>\n",
       "      <th>50%</th>\n",
       "      <td>2.000000</td>\n",
       "      <td>0.000000</td>\n",
       "      <td>1.000000</td>\n",
       "      <td>2.000000</td>\n",
       "      <td>0.000000</td>\n",
       "      <td>0.000000</td>\n",
       "      <td>0.000000</td>\n",
       "      <td>57.000000</td>\n",
       "      <td>2018.000000</td>\n",
       "      <td>8.000000</td>\n",
       "      <td>16.000000</td>\n",
       "      <td>1.0000</td>\n",
       "      <td>0.000000</td>\n",
       "      <td>0.000000</td>\n",
       "      <td>0.000000</td>\n",
       "      <td>99.450000</td>\n",
       "      <td>0.000000</td>\n",
       "      <td>0.000000</td>\n",
       "    </tr>\n",
       "    <tr>\n",
       "      <th>75%</th>\n",
       "      <td>2.000000</td>\n",
       "      <td>0.000000</td>\n",
       "      <td>2.000000</td>\n",
       "      <td>3.000000</td>\n",
       "      <td>0.000000</td>\n",
       "      <td>0.000000</td>\n",
       "      <td>0.000000</td>\n",
       "      <td>127.000000</td>\n",
       "      <td>2018.000000</td>\n",
       "      <td>10.000000</td>\n",
       "      <td>23.000000</td>\n",
       "      <td>1.0000</td>\n",
       "      <td>0.000000</td>\n",
       "      <td>0.000000</td>\n",
       "      <td>0.000000</td>\n",
       "      <td>120.600000</td>\n",
       "      <td>1.000000</td>\n",
       "      <td>1.000000</td>\n",
       "    </tr>\n",
       "    <tr>\n",
       "      <th>max</th>\n",
       "      <td>4.000000</td>\n",
       "      <td>3.000000</td>\n",
       "      <td>7.000000</td>\n",
       "      <td>17.000000</td>\n",
       "      <td>3.000000</td>\n",
       "      <td>1.000000</td>\n",
       "      <td>6.000000</td>\n",
       "      <td>443.000000</td>\n",
       "      <td>2018.000000</td>\n",
       "      <td>12.000000</td>\n",
       "      <td>31.000000</td>\n",
       "      <td>4.0000</td>\n",
       "      <td>1.000000</td>\n",
       "      <td>13.000000</td>\n",
       "      <td>58.000000</td>\n",
       "      <td>375.500000</td>\n",
       "      <td>5.000000</td>\n",
       "      <td>1.000000</td>\n",
       "    </tr>\n",
       "  </tbody>\n",
       "</table>\n",
       "</div>"
      ],
      "text/plain": [
       "       no_of_adults  no_of_children  no_of_weekend_nights  no_of_week_nights  \\\n",
       "count  12695.000000    12695.000000          12695.000000       12695.000000   \n",
       "mean       1.851359        0.106892              0.809137           2.202915   \n",
       "std        0.515134        0.398709              0.870111           1.419864   \n",
       "min        0.000000        0.000000              0.000000           0.000000   \n",
       "25%        2.000000        0.000000              0.000000           1.000000   \n",
       "50%        2.000000        0.000000              1.000000           2.000000   \n",
       "75%        2.000000        0.000000              2.000000           3.000000   \n",
       "max        4.000000        3.000000              7.000000          17.000000   \n",
       "\n",
       "       type_of_meal_plan  required_car_parking_space  room_type_reserved  \\\n",
       "count       12695.000000                12695.000000        12695.000000   \n",
       "mean            0.317290                    0.032690            0.338007   \n",
       "std             0.630232                    0.177831            0.775014   \n",
       "min             0.000000                    0.000000            0.000000   \n",
       "25%             0.000000                    0.000000            0.000000   \n",
       "50%             0.000000                    0.000000            0.000000   \n",
       "75%             0.000000                    0.000000            0.000000   \n",
       "max             3.000000                    1.000000            6.000000   \n",
       "\n",
       "          lead_time  arrival_year  arrival_month  arrival_date  \\\n",
       "count  12695.000000  12695.000000   12695.000000  12695.000000   \n",
       "mean      85.579913   2017.820402       7.431587     15.743127   \n",
       "std       87.294409      0.383868       3.084243      8.765916   \n",
       "min        0.000000   2017.000000       1.000000      1.000000   \n",
       "25%       16.000000   2018.000000       5.000000      8.000000   \n",
       "50%       57.000000   2018.000000       8.000000     16.000000   \n",
       "75%      127.000000   2018.000000      10.000000     23.000000   \n",
       "max      443.000000   2018.000000      12.000000     31.000000   \n",
       "\n",
       "       market_segment_type  repeated_guest  no_of_previous_cancellations  \\\n",
       "count           12695.0000    12695.000000                  12695.000000   \n",
       "mean                0.8000        0.025207                      0.022371   \n",
       "std                 0.6444        0.156759                      0.355431   \n",
       "min                 0.0000        0.000000                      0.000000   \n",
       "25%                 0.0000        0.000000                      0.000000   \n",
       "50%                 1.0000        0.000000                      0.000000   \n",
       "75%                 1.0000        0.000000                      0.000000   \n",
       "max                 4.0000        1.000000                     13.000000   \n",
       "\n",
       "       no_of_previous_bookings_not_canceled  avg_price_per_room  \\\n",
       "count                          12695.000000        12695.000000   \n",
       "mean                               0.158724          103.519186   \n",
       "std                                1.788642           35.370949   \n",
       "min                                0.000000            0.000000   \n",
       "25%                                0.000000           80.100000   \n",
       "50%                                0.000000           99.450000   \n",
       "75%                                0.000000          120.600000   \n",
       "max                               58.000000          375.500000   \n",
       "\n",
       "       no_of_special_requests  booking_status  \n",
       "count            12695.000000    12695.000000  \n",
       "mean                 0.625286        0.326113  \n",
       "std                  0.790905        0.468808  \n",
       "min                  0.000000        0.000000  \n",
       "25%                  0.000000        0.000000  \n",
       "50%                  0.000000        0.000000  \n",
       "75%                  1.000000        1.000000  \n",
       "max                  5.000000        1.000000  "
      ]
     },
     "execution_count": 4,
     "metadata": {},
     "output_type": "execute_result"
    }
   ],
   "source": [
    "train_df.info()\n",
    "train_df.describe()"
   ]
  },
  {
   "cell_type": "markdown",
   "metadata": {},
   "source": [
    "There's no missing data, since the non-null count for each features matches the total number of entries in the dataset (12695). However, we do notice that the range of values for the features vary, so we will have to standardize the data. \n",
    "\n",
    "Using describe, we can see the mins and maxes for how many people are planning to live in a room, and mean is useful to see the overall average of each feature. Arrival month vs booking status and average price per room vs booking status would be useful visualizations. "
   ]
  },
  {
   "cell_type": "code",
   "execution_count": 5,
   "metadata": {},
   "outputs": [
    {
     "data": {
      "image/png": "[encoded data removed]",
      "text/plain": [
       "<Figure size 640x480 with 1 Axes>"
      ]
     },
     "metadata": {},
     "output_type": "display_data"
    },
    {
     "data": {
      "image/png": "[encoded data removed]",
      "text/plain": [
       "<Figure size 640x480 with 1 Axes>"
      ]
     },
     "metadata": {},
     "output_type": "display_data"
    }
   ],
   "source": [
    "feats = [\n",
    "    \"arrival_month\",\n",
    "    \"avg_price_per_room\"\n",
    "]\n",
    "for feat in feats:\n",
    "    ax = train_df.groupby(\"booking_status\")[feat].plot.hist(bins=20, alpha=0.4, legend=True)\n",
    "    plt.xlabel(feat)\n",
    "    plt.title(\"Histogram of \" + feat)\n",
    "    plt.show()"
   ]
  },
  {
   "cell_type": "markdown",
   "metadata": {},
   "source": [
    "We can see the times of the year where there are the most cancellations, which are October and September. We can also see that when prices are between 100-150, cancellations happen the most often. "
   ]
  },
  {
   "cell_type": "markdown",
   "metadata": {},
   "source": [
    "Lastly, we seem to have a class imbalance where there are more bookings cancelled than not cancelled. However, because our ML model will not be making life-threatening decisions (e.g., providing medical diagnosis) and because we don't know which class is more important, we can just not touch the class weights and keep them equal."
   ]
  },
  {
   "cell_type": "code",
   "execution_count": 6,
   "metadata": {},
   "outputs": [
    {
     "name": "stdout",
     "output_type": "stream",
     "text": [
      "% bookings not cancelled:  0.6738873572272548\n",
      "% bookings cancelled:  0.32611264277274515\n"
     ]
    }
   ],
   "source": [
    "booking_counts = train_df['booking_status'].value_counts()\n",
    "print('% bookings not cancelled: ', booking_counts[0]/len(train_df))\n",
    "print('% bookings cancelled: ', booking_counts[1]/len(train_df))"
   ]
  },
  {
   "cell_type": "markdown",
   "metadata": {},
   "source": [
    "Because of the class imbalance, precision and recall are better indicators of our model's peformance, so we can use those alongside F1 score as our metrics for assessment. "
   ]
  },
  {
   "cell_type": "markdown",
   "metadata": {},
   "source": [
    "<br><br>"
   ]
  },
  {
   "cell_type": "markdown",
   "metadata": {},
   "source": [
    "## (Optional) 4. Feature engineering <a name=\"4\"></a>\n",
    "<hr>\n",
    "rubric={points:1}\n",
    "\n",
    "**Your tasks:**\n",
    "\n",
    "1. Carry out feature engineering. In other words, extract new features relevant for the problem and work with your new feature set in the following exercises. You may have to go back and forth between feature engineering and preprocessing. "
   ]
  },
  {
   "cell_type": "code",
   "execution_count": null,
   "metadata": {},
   "outputs": [],
   "source": []
  },
  {
   "cell_type": "markdown",
   "metadata": {},
   "source": [
    "<br><br>"
   ]
  },
  {
   "cell_type": "markdown",
   "metadata": {},
   "source": [
    "## 5. Preprocessing and transformations <a name=\"5\"></a>\n",
    "<hr>\n",
    "rubric={points:10}\n",
    "\n",
    "**Your tasks:**\n",
    "\n",
    "1. Identify different feature types and the transformations you would apply on each feature type. \n",
    "2. Define a column transformer, if necessary. "
   ]
  },
  {
   "cell_type": "code",
   "execution_count": 7,
   "metadata": {},
   "outputs": [],
   "source": [
    "numeric_features = [\"no_of_adults\", \n",
    "                    \"no_of_children\", \n",
    "                    \"no_of_week_nights\", \n",
    "                    \"lead_time\", \n",
    "                    \"no_of_previous_cancellations\", \n",
    "                    \"no_of_previous_bookings_not_canceled\", \n",
    "                    \"avg_price_per_room\", \n",
    "                    \"no_of_special_requests\"]  \n",
    "\n",
    "categorical_features = [\"type_of_meal_plan\", \n",
    "                        \"arrival_year\", \n",
    "                        \"arrival_month\", \n",
    "                        \"arrival_date\", \n",
    "                        \"market_segment_type\"] \n",
    "\n",
    "binary_features = [\"required_car_parking_space\", \n",
    "                   \"repeated_guest\"]  \n",
    "\n",
    "drop_features = [] \n",
    " \n",
    "target = \"booking_status\"\n",
    "\n",
    "preprocessor = make_column_transformer(\n",
    "    (OneHotEncoder(handle_unknown=\"ignore\", sparse=False), categorical_features),\n",
    "    (OneHotEncoder(handle_unknown=\"ignore\", drop='if_binary'), binary_features),\n",
    "    (StandardScaler(), numeric_features),\n",
    "    (\"drop\", drop_features)\n",
    ")\n"
   ]
  },
  {
   "cell_type": "markdown",
   "metadata": {},
   "source": [
    "<br><br>"
   ]
  },
  {
   "cell_type": "markdown",
   "metadata": {},
   "source": [
    "## 6. Baseline model <a name=\"6\"></a>\n",
    "<hr>\n",
    "\n",
    "rubric={points:2}\n",
    "\n",
    "**Your tasks:**\n",
    "1. Try `scikit-learn`'s baseline model and report results."
   ]
  },
  {
   "cell_type": "code",
   "execution_count": 8,
   "metadata": {},
   "outputs": [
    {
     "data": {
      "text/html": [
       "<div>\n",
       "<style scoped>\n",
       "    .dataframe tbody tr th:only-of-type {\n",
       "        vertical-align: middle;\n",
       "    }\n",
       "\n",
       "    .dataframe tbody tr th {\n",
       "        vertical-align: top;\n",
       "    }\n",
       "\n",
       "    .dataframe thead th {\n",
       "        text-align: right;\n",
       "    }\n",
       "</style>\n",
       "<table border=\"1\" class=\"dataframe\">\n",
       "  <thead>\n",
       "    <tr style=\"text-align: right;\">\n",
       "      <th></th>\n",
       "      <th>fit_time</th>\n",
       "      <th>score_time</th>\n",
       "      <th>test_precision</th>\n",
       "      <th>train_precision</th>\n",
       "      <th>test_recall</th>\n",
       "      <th>train_recall</th>\n",
       "      <th>test_f1</th>\n",
       "      <th>train_f1</th>\n",
       "    </tr>\n",
       "  </thead>\n",
       "  <tbody>\n",
       "    <tr>\n",
       "      <th>0</th>\n",
       "      <td>0.001705</td>\n",
       "      <td>0.003715</td>\n",
       "      <td>0.328377</td>\n",
       "      <td>0.328775</td>\n",
       "      <td>0.320048</td>\n",
       "      <td>0.333937</td>\n",
       "      <td>0.324159</td>\n",
       "      <td>0.331336</td>\n",
       "    </tr>\n",
       "    <tr>\n",
       "      <th>1</th>\n",
       "      <td>0.001240</td>\n",
       "      <td>0.003021</td>\n",
       "      <td>0.336854</td>\n",
       "      <td>0.323269</td>\n",
       "      <td>0.346618</td>\n",
       "      <td>0.320048</td>\n",
       "      <td>0.341667</td>\n",
       "      <td>0.321651</td>\n",
       "    </tr>\n",
       "    <tr>\n",
       "      <th>2</th>\n",
       "      <td>0.001162</td>\n",
       "      <td>0.003097</td>\n",
       "      <td>0.344379</td>\n",
       "      <td>0.323450</td>\n",
       "      <td>0.351449</td>\n",
       "      <td>0.326087</td>\n",
       "      <td>0.347878</td>\n",
       "      <td>0.324763</td>\n",
       "    </tr>\n",
       "    <tr>\n",
       "      <th>3</th>\n",
       "      <td>0.001220</td>\n",
       "      <td>0.003086</td>\n",
       "      <td>0.315180</td>\n",
       "      <td>0.308926</td>\n",
       "      <td>0.328502</td>\n",
       "      <td>0.308273</td>\n",
       "      <td>0.321703</td>\n",
       "      <td>0.308599</td>\n",
       "    </tr>\n",
       "    <tr>\n",
       "      <th>4</th>\n",
       "      <td>0.001136</td>\n",
       "      <td>0.003058</td>\n",
       "      <td>0.306373</td>\n",
       "      <td>0.331527</td>\n",
       "      <td>0.301932</td>\n",
       "      <td>0.332428</td>\n",
       "      <td>0.304136</td>\n",
       "      <td>0.331976</td>\n",
       "    </tr>\n",
       "  </tbody>\n",
       "</table>\n",
       "</div>"
      ],
      "text/plain": [
       "   fit_time  score_time  test_precision  train_precision  test_recall  \\\n",
       "0  0.001705    0.003715        0.328377         0.328775     0.320048   \n",
       "1  0.001240    0.003021        0.336854         0.323269     0.346618   \n",
       "2  0.001162    0.003097        0.344379         0.323450     0.351449   \n",
       "3  0.001220    0.003086        0.315180         0.308926     0.328502   \n",
       "4  0.001136    0.003058        0.306373         0.331527     0.301932   \n",
       "\n",
       "   train_recall   test_f1  train_f1  \n",
       "0      0.333937  0.324159  0.331336  \n",
       "1      0.320048  0.341667  0.321651  \n",
       "2      0.326087  0.347878  0.324763  \n",
       "3      0.308273  0.321703  0.308599  \n",
       "4      0.332428  0.304136  0.331976  "
      ]
     },
     "execution_count": 8,
     "metadata": {},
     "output_type": "execute_result"
    }
   ],
   "source": [
    "# We will use strategy='stratified' and f1 as our scoring metric because of the \n",
    "# class imbalance we identified in EDA\n",
    "dummy = DummyClassifier(strategy='stratified')\n",
    "pd.DataFrame(cross_validate(dummy, \n",
    "                            X_train, \n",
    "                            y_train, \n",
    "                            return_train_score=True, \n",
    "                            scoring=['precision', 'recall', 'f1']))"
   ]
  },
  {
   "cell_type": "markdown",
   "metadata": {},
   "source": [
    "<br><br>"
   ]
  },
  {
   "cell_type": "markdown",
   "metadata": {},
   "source": [
    "## 7. Linear models <a name=\"7\"></a>\n",
    "<hr>\n",
    "rubric={points:12}\n",
    "\n",
    "**Your tasks:**\n",
    "\n",
    "1. Try logistic regression as a first real attempt. \n",
    "2. Carry out hyperparameter tuning to explore different values for the complexity hyperparameter `C`. \n",
    "3. Report validation scores along with standard deviation. \n",
    "4. Summarize your results."
   ]
  },
  {
   "cell_type": "code",
   "execution_count": 9,
   "metadata": {},
   "outputs": [
    {
     "data": {
      "image/png": "[encoded data removed]",
      "text/plain": [
       "<Figure size 640x480 with 1 Axes>"
      ]
     },
     "metadata": {},
     "output_type": "display_data"
    }
   ],
   "source": [
    "# Hyperparam optimization on logistic regression using f1 score as proxy for precision/recall\n",
    "# Code borrowed from hw4 q3b\n",
    "\n",
    "C_vals = 10.0 ** np.arange(-2, 3, 0.5)\n",
    "\n",
    "train_scores = []\n",
    "cv_scores = []\n",
    "train_std = []\n",
    "cv_std = []\n",
    "\n",
    "for C in C_vals:\n",
    "    pipe = make_pipeline(\n",
    "        preprocessor,\n",
    "        LogisticRegression(max_iter=1000, C=C),\n",
    "    )\n",
    "    cv_results = cross_validate(pipe, X_train, y_train, return_train_score=True, scoring='f1')\n",
    "    \n",
    "    train_scores.append(cv_results[\"train_score\"].mean())\n",
    "    cv_scores.append(cv_results[\"test_score\"].mean())\n",
    "    train_std.append(cv_results[\"train_score\"].std())\n",
    "    cv_std.append(cv_results[\"test_score\"].std())\n",
    "\n",
    "plt.semilogx(C_vals, train_scores, label=\"train\")\n",
    "plt.semilogx(C_vals, cv_scores, label=\"valid\")\n",
    "plt.legend()\n",
    "plt.xlabel(\"C\")\n",
    "plt.ylabel(\"f1 score\");"
   ]
  },
  {
   "cell_type": "code",
   "execution_count": 10,
   "metadata": {},
   "outputs": [
    {
     "data": {
      "text/html": [
       "<div>\n",
       "<style scoped>\n",
       "    .dataframe tbody tr th:only-of-type {\n",
       "        vertical-align: middle;\n",
       "    }\n",
       "\n",
       "    .dataframe tbody tr th {\n",
       "        vertical-align: top;\n",
       "    }\n",
       "\n",
       "    .dataframe thead th {\n",
       "        text-align: right;\n",
       "    }\n",
       "</style>\n",
       "<table border=\"1\" class=\"dataframe\">\n",
       "  <thead>\n",
       "    <tr style=\"text-align: right;\">\n",
       "      <th></th>\n",
       "      <th>C</th>\n",
       "      <th>train</th>\n",
       "      <th>cv</th>\n",
       "    </tr>\n",
       "  </thead>\n",
       "  <tbody>\n",
       "    <tr>\n",
       "      <th>0</th>\n",
       "      <td>0.010000</td>\n",
       "      <td>0.664 (+/- 0.003)</td>\n",
       "      <td>0.662 (+/- 0.005)</td>\n",
       "    </tr>\n",
       "    <tr>\n",
       "      <th>1</th>\n",
       "      <td>0.031623</td>\n",
       "      <td>0.678 (+/- 0.005)</td>\n",
       "      <td>0.673 (+/- 0.005)</td>\n",
       "    </tr>\n",
       "    <tr>\n",
       "      <th>2</th>\n",
       "      <td>0.100000</td>\n",
       "      <td>0.685 (+/- 0.003)</td>\n",
       "      <td>0.680 (+/- 0.006)</td>\n",
       "    </tr>\n",
       "    <tr>\n",
       "      <th>3</th>\n",
       "      <td>0.316228</td>\n",
       "      <td>0.686 (+/- 0.003)</td>\n",
       "      <td>0.682 (+/- 0.007)</td>\n",
       "    </tr>\n",
       "    <tr>\n",
       "      <th>4</th>\n",
       "      <td>1.000000</td>\n",
       "      <td>0.687 (+/- 0.004)</td>\n",
       "      <td>0.682 (+/- 0.007)</td>\n",
       "    </tr>\n",
       "    <tr>\n",
       "      <th>5</th>\n",
       "      <td>3.162278</td>\n",
       "      <td>0.687 (+/- 0.005)</td>\n",
       "      <td>0.683 (+/- 0.008)</td>\n",
       "    </tr>\n",
       "    <tr>\n",
       "      <th>6</th>\n",
       "      <td>10.000000</td>\n",
       "      <td>0.687 (+/- 0.004)</td>\n",
       "      <td>0.684 (+/- 0.008)</td>\n",
       "    </tr>\n",
       "    <tr>\n",
       "      <th>7</th>\n",
       "      <td>31.622777</td>\n",
       "      <td>0.687 (+/- 0.004)</td>\n",
       "      <td>0.684 (+/- 0.008)</td>\n",
       "    </tr>\n",
       "    <tr>\n",
       "      <th>8</th>\n",
       "      <td>100.000000</td>\n",
       "      <td>0.687 (+/- 0.004)</td>\n",
       "      <td>0.684 (+/- 0.008)</td>\n",
       "    </tr>\n",
       "    <tr>\n",
       "      <th>9</th>\n",
       "      <td>316.227766</td>\n",
       "      <td>0.687 (+/- 0.004)</td>\n",
       "      <td>0.684 (+/- 0.008)</td>\n",
       "    </tr>\n",
       "  </tbody>\n",
       "</table>\n",
       "</div>"
      ],
      "text/plain": [
       "            C              train                 cv\n",
       "0    0.010000  0.664 (+/- 0.003)  0.662 (+/- 0.005)\n",
       "1    0.031623  0.678 (+/- 0.005)  0.673 (+/- 0.005)\n",
       "2    0.100000  0.685 (+/- 0.003)  0.680 (+/- 0.006)\n",
       "3    0.316228  0.686 (+/- 0.003)  0.682 (+/- 0.007)\n",
       "4    1.000000  0.687 (+/- 0.004)  0.682 (+/- 0.007)\n",
       "5    3.162278  0.687 (+/- 0.005)  0.683 (+/- 0.008)\n",
       "6   10.000000  0.687 (+/- 0.004)  0.684 (+/- 0.008)\n",
       "7   31.622777  0.687 (+/- 0.004)  0.684 (+/- 0.008)\n",
       "8  100.000000  0.687 (+/- 0.004)  0.684 (+/- 0.008)\n",
       "9  316.227766  0.687 (+/- 0.004)  0.684 (+/- 0.008)"
      ]
     },
     "execution_count": 10,
     "metadata": {},
     "output_type": "execute_result"
    }
   ],
   "source": [
    "train_output = []\n",
    "cv_output = []\n",
    "\n",
    "for i in range(len(train_scores)):\n",
    "    train_output.append((f\"%0.3f (+/- %0.3f)\" % (train_scores[i], train_std[i])))\n",
    "    cv_output.append((f\"%0.3f (+/- %0.3f)\" % (cv_scores[i], cv_std[i])))\n",
    "    \n",
    "pd.DataFrame({\"C\": C_vals, \n",
    "              \"train\": train_output, \n",
    "              \"cv\": cv_output})"
   ]
  },
  {
   "cell_type": "markdown",
   "metadata": {},
   "source": [
    "We don't seem to have an overfitting happening, but our cv score peaks at `C=10` and plateaus."
   ]
  },
  {
   "cell_type": "markdown",
   "metadata": {},
   "source": [
    "<br><br>"
   ]
  },
  {
   "cell_type": "markdown",
   "metadata": {},
   "source": [
    "## 8. Different classifiers <a name=\"8\"></a>\n",
    "<hr>\n",
    "rubric={points:15}\n",
    "\n",
    "**Your tasks:**\n",
    "1. Try at least 3 other models aside from logistic regression. At least one of these models should be a tree-based ensemble model (e.g., lgbm, random forest, xgboost). \n",
    "2. Summarize your results. Can you beat logistic regression? "
   ]
  },
  {
   "cell_type": "markdown",
   "metadata": {},
   "source": [
    "Define `mean_std_cross_val_scores` from lectures:"
   ]
  },
  {
   "cell_type": "code",
   "execution_count": 11,
   "metadata": {},
   "outputs": [],
   "source": [
    "def mean_std_cross_val_scores(model, X_train, y_train, **kwargs):\n",
    "\n",
    "    scores = cross_validate(model, X_train, y_train, **kwargs)\n",
    "\n",
    "    mean_scores = pd.DataFrame(scores).mean()\n",
    "    std_scores = pd.DataFrame(scores).std()\n",
    "    out_col = []\n",
    "\n",
    "    for i in range(len(mean_scores)):\n",
    "        out_col.append((f\"%0.3f (+/- %0.3f)\" % (mean_scores[i], std_scores[i])))\n",
    "\n",
    "    return pd.Series(data=out_col, index=mean_scores.index)"
   ]
  },
  {
   "cell_type": "markdown",
   "metadata": {},
   "source": [
    "Score three tree-based ensemble models using their default params:"
   ]
  },
  {
   "cell_type": "code",
   "execution_count": 12,
   "metadata": {},
   "outputs": [
    {
     "data": {
      "text/html": [
       "<div>\n",
       "<style scoped>\n",
       "    .dataframe tbody tr th:only-of-type {\n",
       "        vertical-align: middle;\n",
       "    }\n",
       "\n",
       "    .dataframe tbody tr th {\n",
       "        vertical-align: top;\n",
       "    }\n",
       "\n",
       "    .dataframe thead th {\n",
       "        text-align: right;\n",
       "    }\n",
       "</style>\n",
       "<table border=\"1\" class=\"dataframe\">\n",
       "  <thead>\n",
       "    <tr style=\"text-align: right;\">\n",
       "      <th></th>\n",
       "      <th>LogReg</th>\n",
       "      <th>DecTree</th>\n",
       "      <th>RFC</th>\n",
       "      <th>XGB</th>\n",
       "    </tr>\n",
       "  </thead>\n",
       "  <tbody>\n",
       "    <tr>\n",
       "      <th>fit_time</th>\n",
       "      <td>0.261 (+/- 0.026)</td>\n",
       "      <td>0.076 (+/- 0.002)</td>\n",
       "      <td>0.969 (+/- 0.005)</td>\n",
       "      <td>1.039 (+/- 0.139)</td>\n",
       "    </tr>\n",
       "    <tr>\n",
       "      <th>score_time</th>\n",
       "      <td>0.007 (+/- 0.000)</td>\n",
       "      <td>0.007 (+/- 0.000)</td>\n",
       "      <td>0.059 (+/- 0.000)</td>\n",
       "      <td>0.013 (+/- 0.003)</td>\n",
       "    </tr>\n",
       "    <tr>\n",
       "      <th>test_score</th>\n",
       "      <td>0.684 (+/- 0.009)</td>\n",
       "      <td>0.762 (+/- 0.007)</td>\n",
       "      <td>0.812 (+/- 0.004)</td>\n",
       "      <td>0.803 (+/- 0.010)</td>\n",
       "    </tr>\n",
       "    <tr>\n",
       "      <th>train_score</th>\n",
       "      <td>0.687 (+/- 0.005)</td>\n",
       "      <td>0.995 (+/- 0.000)</td>\n",
       "      <td>0.995 (+/- 0.000)</td>\n",
       "      <td>0.902 (+/- 0.006)</td>\n",
       "    </tr>\n",
       "  </tbody>\n",
       "</table>\n",
       "</div>"
      ],
      "text/plain": [
       "                        LogReg            DecTree                RFC  \\\n",
       "fit_time     0.261 (+/- 0.026)  0.076 (+/- 0.002)  0.969 (+/- 0.005)   \n",
       "score_time   0.007 (+/- 0.000)  0.007 (+/- 0.000)  0.059 (+/- 0.000)   \n",
       "test_score   0.684 (+/- 0.009)  0.762 (+/- 0.007)  0.812 (+/- 0.004)   \n",
       "train_score  0.687 (+/- 0.005)  0.995 (+/- 0.000)  0.995 (+/- 0.000)   \n",
       "\n",
       "                           XGB  \n",
       "fit_time     1.039 (+/- 0.139)  \n",
       "score_time   0.013 (+/- 0.003)  \n",
       "test_score   0.803 (+/- 0.010)  \n",
       "train_score  0.902 (+/- 0.006)  "
      ]
     },
     "execution_count": 12,
     "metadata": {},
     "output_type": "execute_result"
    }
   ],
   "source": [
    "from sklearn.tree import DecisionTreeClassifier\n",
    "from sklearn.ensemble import RandomForestClassifier\n",
    "from xgboost import XGBClassifier\n",
    "\n",
    "# Create dict to store models\n",
    "models = {'LogReg': LogisticRegression(max_iter=1000, C=10),\n",
    "          'DecTree': DecisionTreeClassifier(),\n",
    "          'RFC': RandomForestClassifier(), \n",
    "          'XGB': XGBClassifier()}\n",
    "\n",
    "# Initialize empty dict to store output\n",
    "output = {}\n",
    "\n",
    "# Cross val on models\n",
    "for name, model in models.items():    \n",
    "    pipe = make_pipeline(preprocessor, model)\n",
    "    cv_results = mean_std_cross_val_scores(pipe, \n",
    "                                           X_train, \n",
    "                                           y_train, \n",
    "                                           return_train_score=True, \n",
    "                                           scoring='f1')\n",
    "    \n",
    "    output[name] = cv_results\n",
    "    \n",
    "pd.DataFrame(output)"
   ]
  },
  {
   "cell_type": "markdown",
   "metadata": {},
   "source": [
    "All the models we used have better CV scores than logistic regression. However, the decision tree and RFC both seem to be significantly overfitting. XGB also seems to be overfitting, but not as bad. Even though XGB's CV score is slightly lower than RFC, I would choose to use XFB because it is overfitting less. "
   ]
  },
  {
   "cell_type": "markdown",
   "metadata": {},
   "source": [
    "<br><br>"
   ]
  },
  {
   "cell_type": "markdown",
   "metadata": {},
   "source": [
    "## (Optional) 9. Feature selection <a name=\"9\"></a>\n",
    "<hr>\n",
    "rubric={points:1}\n",
    "\n",
    "**Your tasks:**\n",
    "\n",
    "Make some attempts to select relevant features. You may try `RFECV` or forward selection. Do the results improve with feature selection? Summarize your results. If you see improvements in the results, keep feature selection in your pipeline. If not, you may abandon it in the next exercises. "
   ]
  },
  {
   "cell_type": "markdown",
   "metadata": {},
   "source": [
    "<br><br>"
   ]
  },
  {
   "cell_type": "markdown",
   "metadata": {},
   "source": [
    "## 10. Hyperparameter optimization <a name=\"10\"></a>\n",
    "<hr>\n",
    "rubric={points:15}\n",
    "\n",
    "**Your tasks:**\n",
    "\n",
    "Make some attempts to optimize hyperparameters for the models you've tried and summarize your results. You may pick one of the best performing models from the previous exercise and tune hyperparameters only for that model. You may use `sklearn`'s methods for hyperparameter optimization or fancier Bayesian optimization methods. \n",
    "  - [GridSearchCV](http://scikit-learn.org/stable/modules/generated/sklearn.model_selection.GridSearchCV.html)   \n",
    "  - [RandomizedSearchCV](http://scikit-learn.org/stable/modules/generated/sklearn.model_selection.RandomizedSearchCV.html)\n",
    "  - [scikit-optimize](https://github.com/scikit-optimize/scikit-optimize)"
   ]
  },
  {
   "cell_type": "markdown",
   "metadata": {},
   "source": [
    "We will use XGBClassifier for this problem. "
   ]
  },
  {
   "cell_type": "code",
   "execution_count": 13,
   "metadata": {},
   "outputs": [
    {
     "name": "stdout",
     "output_type": "stream",
     "text": [
      "{'xgbclassifier__n_estimators': 250, 'xgbclassifier__learning_rate': 0.2}\n"
     ]
    }
   ],
   "source": [
    "# Hyper-param tuning values for param_grid from:\n",
    "# https://machinelearningmastery.com/tune-learning-rate-for-gradient-boosting-with-xgboost-in-python/#:~:text=It%20is%20common%20to%20have,as%20values%20less%20than%200.1.\n",
    "\n",
    "param_grid = {\n",
    "    'xgbclassifier__n_estimators': np.arange(50, 1000, 50),\n",
    "    'xgbclassifier__learning_rate': [0.0001, 0.001, 0.01, 0.1, 0.2, 0.3]\n",
    "}\n",
    "\n",
    "# Create XGBClassifier pipeline\n",
    "pipe = make_pipeline(preprocessor, XGBClassifier())\n",
    "\n",
    "# RandomizedSearchCV\n",
    "random_search = RandomizedSearchCV(\n",
    "    pipe, \n",
    "    param_distributions=param_grid, \n",
    "    scoring='f1',\n",
    "    random_state=42)\n",
    "\n",
    "random_search.fit(X_train, y_train)\n",
    "\n",
    "print(random_search.best_params_)"
   ]
  },
  {
   "cell_type": "markdown",
   "metadata": {},
   "source": [
    "<br><br>"
   ]
  },
  {
   "cell_type": "markdown",
   "metadata": {},
   "source": [
    "## 11. Interpretation and feature importances <a name=\"1\"></a>\n",
    "<hr>\n",
    "rubric={points:15}\n",
    "\n",
    "**Your tasks:**\n",
    "\n",
    "1. Use the methods we saw in class (e.g., `eli5`, `shap`) (or any other methods of your choice) to explain feature importances of one of the best performing models. Summarize your observations. "
   ]
  },
  {
   "cell_type": "markdown",
   "metadata": {},
   "source": [
    "<br><br>"
   ]
  },
  {
   "cell_type": "markdown",
   "metadata": {},
   "source": [
    "## 12. Results on the test set <a name=\"12\"></a>\n",
    "<hr>\n",
    "\n",
    "rubric={points:5}\n",
    "\n",
    "**Your tasks:**\n",
    "\n",
    "1. Try your best performing model on the test data and report test scores. \n",
    "2. Do the test scores agree with the validation scores from before? To what extent do you trust your results? Do you think you've had issues with optimization bias? "
   ]
  },
  {
   "cell_type": "markdown",
   "metadata": {},
   "source": [
    "<br><br>"
   ]
  },
  {
   "cell_type": "markdown",
   "metadata": {},
   "source": [
    "## (Optional) 13. Explaining predictions \n",
    "rubric={points:1}\n",
    "\n",
    "**Your tasks**\n",
    "\n",
    "1. Take one or two test predictions and explain them with SHAP force plots.  "
   ]
  },
  {
   "cell_type": "markdown",
   "metadata": {},
   "source": [
    "<br><br>"
   ]
  },
  {
   "cell_type": "markdown",
   "metadata": {},
   "source": [
    "## 14. Summary of results <a name=\"13\"></a>\n",
    "<hr>\n",
    "rubric={points:10}\n",
    "\n",
    "**Your tasks:**\n",
    "\n",
    "1. Report your final test score along with the metric you used. \n",
    "2. Write concluding remarks.\n",
    "3. Discuss other ideas that you did not try but could potentially improve the performance/interpretability . "
   ]
  },
  {
   "cell_type": "markdown",
   "metadata": {},
   "source": [
    "<br><br><br><br>"
   ]
  },
  {
   "cell_type": "markdown",
   "metadata": {},
   "source": [
    "## Submission instructions \n",
    "\n",
    "**PLEASE READ:** When you are ready to submit your assignment do the following:\n",
    "\n",
    "1. Run all cells in your notebook to make sure there are no errors by doing `Kernel -> Restart Kernel and Clear All Outputs` and then `Run -> Run All Cells`. \n",
    "2. Notebooks with cell execution numbers out of order or not starting from “1” will have marks deducted. Notebooks without the output displayed may not be graded at all (because we need to see the output in order to grade your work).\n",
    "3. Upload the assignment using Gradescope's drag and drop tool. Check out this [Gradescope Student Guide](https://lthub.ubc.ca/guides/gradescope-student-guide/) if you need help with Gradescope submission. "
   ]
  }
 ],
 "metadata": {
  "kernelspec": {
   "display_name": "Python [conda env:cpsc330]",
   "language": "python",
   "name": "conda-env-cpsc330-py"
  },
  "language_info": {
   "codemirror_mode": {
    "name": "ipython",
    "version": 3
   },
   "file_extension": ".py",
   "mimetype": "text/x-python",
   "name": "python",
   "nbconvert_exporter": "python",
   "pygments_lexer": "ipython3",
   "version": "3.10.8"
  }
 },
 "nbformat": 4,
 "nbformat_minor": 4
}
